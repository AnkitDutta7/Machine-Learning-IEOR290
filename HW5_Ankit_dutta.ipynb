{
 "cells": [
  {
   "cell_type": "code",
   "execution_count": 1,
   "metadata": {
    "collapsed": false,
    "deletable": true,
    "editable": true
   },
   "outputs": [],
   "source": [
    "import pandas as pd\n",
    "import numpy as np \n",
    "import matplotlib.pyplot as plt\n",
    "from sklearn.preprocessing import StandardScaler\n",
    "from sklearn.metrics import confusion_matrix\n",
    "from sklearn import linear_model"
   ]
  },
  {
   "cell_type": "code",
   "execution_count": 2,
   "metadata": {
    "collapsed": false,
    "deletable": true,
    "editable": true
   },
   "outputs": [],
   "source": [
    "X=np.array([4,5,5.6,6.8,7,7.2,8,0.8,1.0,1.2,2.5,2.6,3.0,4.3])\n",
    "X=X.reshape(14,1)"
   ]
  },
  {
   "cell_type": "code",
   "execution_count": 3,
   "metadata": {
    "collapsed": true,
    "deletable": true,
    "editable": true
   },
   "outputs": [],
   "source": [
    "t= np.array([1, 1, 1, 1, 1, 1, 1, 0, 0, 0, 0, 0, 0, 0])\n",
    "t=t.reshape(14,1)"
   ]
  },
  {
   "cell_type": "code",
   "execution_count": 4,
   "metadata": {
    "collapsed": false,
    "deletable": true,
    "editable": true
   },
   "outputs": [],
   "source": [
    "## Standardize X for mean 0, variance 1, scatter plot of data and targets"
   ]
  },
  {
   "cell_type": "code",
   "execution_count": 5,
   "metadata": {
    "collapsed": false,
    "deletable": true,
    "editable": true
   },
   "outputs": [],
   "source": [
    "X= StandardScaler(0,1).fit_transform(X)"
   ]
  },
  {
   "cell_type": "code",
   "execution_count": 6,
   "metadata": {
    "collapsed": false,
    "deletable": true,
    "editable": true
   },
   "outputs": [
    {
     "data": {
      "image/png": "[encoded data removed]",
      "text/plain": [
       "<matplotlib.figure.Figure at 0x26117904550>"
      ]
     },
     "metadata": {},
     "output_type": "display_data"
    }
   ],
   "source": [
    "plt.scatter(X,t)\n",
    "plt.ylabel(\"Targets\")\n",
    "plt.xlabel(\"Scaled Data\")\n",
    "\n",
    "plt.show()\n"
   ]
  },
  {
   "cell_type": "markdown",
   "metadata": {
    "deletable": true,
    "editable": true
   },
   "source": [
    "# b) Ridge regression lambda=0.1"
   ]
  },
  {
   "cell_type": "code",
   "execution_count": 7,
   "metadata": {
    "collapsed": false,
    "deletable": true,
    "editable": true
   },
   "outputs": [],
   "source": [
    "ridge = linear_model.Ridge(alpha=0.1).fit(X, t)"
   ]
  },
  {
   "cell_type": "code",
   "execution_count": 8,
   "metadata": {
    "collapsed": true,
    "deletable": true,
    "editable": true
   },
   "outputs": [],
   "source": [
    "predict_ridge=ridge.predict(X)"
   ]
  },
  {
   "cell_type": "markdown",
   "metadata": {
    "deletable": true,
    "editable": true
   },
   "source": [
    "# Logistic Regression"
   ]
  },
  {
   "cell_type": "code",
   "execution_count": 9,
   "metadata": {
    "collapsed": true,
    "deletable": true,
    "editable": true
   },
   "outputs": [],
   "source": [
    "#We use np.ravel to flatten t\n",
    "\n",
    "logreg=linear_model.LogisticRegression(penalty='l2',C=10).fit(X,t.ravel())"
   ]
  },
  {
   "cell_type": "code",
   "execution_count": 10,
   "metadata": {
    "collapsed": true
   },
   "outputs": [],
   "source": [
    "proba=logreg.predict_proba(X)"
   ]
  },
  {
   "cell_type": "code",
   "execution_count": 11,
   "metadata": {
    "collapsed": true,
    "deletable": true,
    "editable": true
   },
   "outputs": [],
   "source": [
    "predict_log=logreg.predict(X)"
   ]
  },
  {
   "cell_type": "code",
   "execution_count": 12,
   "metadata": {
    "collapsed": false
   },
   "outputs": [
    {
     "name": "stdout",
     "output_type": "stream",
     "text": [
      "Ridge regression coefficient (Part B): [[ 0.42263874]]\n",
      "Ridge regression intercept (Part B): [ 0.5]\n",
      "Logistic regression coefficient (Part B): [[ 3.52928384]]\n",
      "Logistic regression intercept (Part B): [ 0.104634]\n"
     ]
    }
   ],
   "source": [
    "print('Ridge regression coefficient (Part B): {0}'.format(ridge.coef_))\n",
    "print('Ridge regression intercept (Part B): {0}'.format(ridge.intercept_))\n",
    "print('Logistic regression coefficient (Part B): {0}'.format(logreg.coef_))\n",
    "print('Logistic regression intercept (Part B): {0}'.format(logreg.intercept_))"
   ]
  },
  {
   "cell_type": "code",
   "execution_count": null,
   "metadata": {
    "collapsed": true
   },
   "outputs": [],
   "source": []
  },
  {
   "cell_type": "code",
   "execution_count": 15,
   "metadata": {
    "collapsed": false,
    "deletable": true,
    "editable": true
   },
   "outputs": [
    {
     "data": {
      "image/png": "[encoded data removed]",
      "text/plain": [
       "<matplotlib.figure.Figure at 0x26117b6d7f0>"
      ]
     },
     "metadata": {},
     "output_type": "display_data"
    }
   ],
   "source": [
    "plt.scatter(X,t)\n",
    "plt.scatter(X,predict_ridge,c='red')\n",
    "plt.scatter(X,proba[:,1],c='blue')\n",
    "plt.scatter(X,predict_log,c='yellow')\n",
    "plt.title('Logistic and Ridge Regression predictions')\n",
    "#def model(X):\n",
    "#    return 1 / (1 + np.exp(-X))\n",
    "#loss = model(X * logreg.coef_ + logreg.intercept_)\n",
    "\n",
    "#plt.plot(X, loss,color='blue')\n",
    "plt.show()"
   ]
  },
  {
   "cell_type": "code",
   "execution_count": null,
   "metadata": {
    "collapsed": true
   },
   "outputs": [],
   "source": []
  },
  {
   "cell_type": "markdown",
   "metadata": {
    "deletable": true,
    "editable": true
   },
   "source": [
    "# C"
   ]
  },
  {
   "cell_type": "markdown",
   "metadata": {
    "collapsed": true,
    "deletable": true,
    "editable": true
   },
   "source": [
    "#adding (x15,t15) =(12,1) to dataset and redoing a,b"
   ]
  },
  {
   "cell_type": "code",
   "execution_count": 16,
   "metadata": {
    "collapsed": true,
    "deletable": true,
    "editable": true
   },
   "outputs": [],
   "source": [
    "X=np.array([4,5,5.6,6.8,7,7.2,8,0.8,1.0,1.2,2.5,2.6,3.0,4.3,12])\n",
    "X=X.reshape(15,1)"
   ]
  },
  {
   "cell_type": "code",
   "execution_count": 17,
   "metadata": {
    "collapsed": true,
    "deletable": true,
    "editable": true
   },
   "outputs": [],
   "source": [
    "t= np.array([1, 1, 1, 1, 1, 1, 1, 0, 0, 0, 0, 0, 0, 0,1])\n",
    "t=t.reshape(15,1)"
   ]
  },
  {
   "cell_type": "code",
   "execution_count": 18,
   "metadata": {
    "collapsed": true,
    "deletable": true,
    "editable": true
   },
   "outputs": [],
   "source": [
    "X= StandardScaler(0,1).fit_transform(X)"
   ]
  },
  {
   "cell_type": "code",
   "execution_count": 19,
   "metadata": {
    "collapsed": false,
    "deletable": true,
    "editable": true
   },
   "outputs": [
    {
     "data": {
      "image/png": "[encoded data removed]",
      "text/plain": [
       "<matplotlib.figure.Figure at 0x261184c20b8>"
      ]
     },
     "metadata": {},
     "output_type": "display_data"
    }
   ],
   "source": [
    "plt.scatter(X,t,c='black')\n",
    "plt.ylabel(\"Targets\")\n",
    "plt.xlabel(\"Scaled Data\")\n",
    "plt.show()"
   ]
  },
  {
   "cell_type": "code",
   "execution_count": 28,
   "metadata": {
    "collapsed": true,
    "deletable": true,
    "editable": true
   },
   "outputs": [],
   "source": [
    "ridge = linear_model.Ridge(alpha=0.1).fit(X, t.ravel())\n",
    "predict_ridge=ridge.predict(X)"
   ]
  },
  {
   "cell_type": "code",
   "execution_count": 29,
   "metadata": {
    "collapsed": false,
    "deletable": true,
    "editable": true
   },
   "outputs": [],
   "source": [
    "logreg=linear_model.LogisticRegression(penalty='l2',C=10).fit(X,t.ravel())\n",
    "predict_log=logreg.predict(X)\n",
    "predlog=logreg.predict_proba(X)"
   ]
  },
  {
   "cell_type": "code",
   "execution_count": 31,
   "metadata": {
    "collapsed": false,
    "deletable": true,
    "editable": true
   },
   "outputs": [
    {
     "data": {
      "image/png": "[encoded data removed]",
      "text/plain": [
       "<matplotlib.figure.Figure at 0x261184cc208>"
      ]
     },
     "metadata": {},
     "output_type": "display_data"
    }
   ],
   "source": [
    "plt.scatter(X,t,c='yellow')\n",
    "plt.scatter(X,predict_ridge,c='red')\n",
    "plt.scatter(X,predlog[:,1],c='blue')\n",
    "poly=np.poly1d(np.polyfit(X[:,0],predict_ridge,1))\n",
    "plt.plot(X[:,0],poly(X),'-',c='yellow')\n",
    "\n",
    "poly=np.poly1d(np.polyfit(X[:,0],predlog[:,1],1))\n",
    "plt.plot(X[:,0],poly(X),'-',c='red')\n",
    "\n",
    "plt.title('Logistic and Ridge Regression predictions')\n",
    "plt.show()"
   ]
  },
  {
   "cell_type": "markdown",
   "metadata": {
    "collapsed": true,
    "deletable": true,
    "editable": true
   },
   "source": [
    "# Sensitivity Analysis"
   ]
  },
  {
   "cell_type": "code",
   "execution_count": 36,
   "metadata": {
    "collapsed": false,
    "deletable": true,
    "editable": true
   },
   "outputs": [
    {
     "name": "stdout",
     "output_type": "stream",
     "text": [
      "Ridge Accuracy 0.933333333333\n"
     ]
    }
   ],
   "source": [
    "ridge_cfm=confusion_matrix(t,[np.rint(p) for p in predict_ridge])\n",
    "ridge_accuracy=(ridge_cfm[0][0]+ridge_cfm[1][1])/15\n",
    "\n",
    "print('Ridge Accuracy',ridge_accuracy)"
   ]
  },
  {
   "cell_type": "code",
   "execution_count": 37,
   "metadata": {
    "collapsed": false
   },
   "outputs": [
    {
     "name": "stdout",
     "output_type": "stream",
     "text": [
      "Logistic Accuracy 0.866666666667\n"
     ]
    }
   ],
   "source": [
    "logreg_cfm=confusion_matrix(t,predict_log)\n",
    "logreg_accuracy=(logreg_cfm[0][0]+logreg_cfm[1][1])/15\n",
    "\n",
    "print('Logistic Accuracy',logreg_accuracy)"
   ]
  },
  {
   "cell_type": "markdown",
   "metadata": {
    "collapsed": true,
    "deletable": true,
    "editable": true
   },
   "source": [
    "# Q3"
   ]
  },
  {
   "cell_type": "code",
   "execution_count": 38,
   "metadata": {
    "collapsed": true,
    "deletable": true,
    "editable": true
   },
   "outputs": [],
   "source": [
    "from mnist import MNIST\n",
    "import sklearn.metrics as metrics\n",
    "from sklearn.preprocessing import OneHotEncoder"
   ]
  },
  {
   "cell_type": "code",
   "execution_count": 39,
   "metadata": {
    "collapsed": false,
    "deletable": true,
    "editable": true
   },
   "outputs": [],
   "source": [
    "def load_dataset():\n",
    "    mndata = MNIST('./data/')\n",
    "    X_train, labels_train = map(np.array, mndata.load_training())\n",
    "    X_test, labels_test = map(np.array, mndata.load_testing())\n",
    "    X_train = X_train/255.0\n",
    "    X_test = X_test/255.0\n",
    "\n",
    "    X_train = np.asarray(X_train).reshape(60000, 784)\n",
    "    labels_train = np.asarray(labels_train).reshape(60000, 1)\n",
    "    X_test = np.asarray(X_test).reshape(10000, 784)\n",
    "    labels_test = np.asarray(labels_test).reshape(10000, 1)\n",
    "\n",
    "    return X_train, labels_train, X_test, labels_test\n"
   ]
  },
  {
   "cell_type": "code",
   "execution_count": null,
   "metadata": {
    "collapsed": false,
    "deletable": true,
    "editable": true
   },
   "outputs": [],
   "source": [
    "if __name__ == \"__main__\":\n",
    "\n",
    "    #==== Read data ====\n",
    "\n",
    "    X_train, labels_train, X_test, labels_test = load_dataset()\n",
    "\n",
    "    #==== Standardize data ====\n",
    "\n",
    "    X_train = StandardScaler().fit_transform(X_train)\n",
    "    X_test = StandardScaler().fit_transform(X_test)\n",
    "    #==== Train ====\n",
    "\n",
    "    mlr = linear_model.LogisticRegressionCV(Cs=np.arange(0.1, 1, 0.1))\n",
    "    mlr.fit(X_train, labels_train.ravel())"
   ]
  },
  {
   "cell_type": "code",
   "execution_count": null,
   "metadata": {
    "collapsed": true,
    "deletable": true,
    "editable": true
   },
   "outputs": [],
   "source": [
    "print('Selected hyper-parameter: {0}'.format(mlr.C_))\n",
    "pred_labels_train = logreg.predict(X_train)\n",
    "pred_labels_test = logreg.predict(X_test)"
   ]
  },
  {
   "cell_type": "code",
   "execution_count": null,
   "metadata": {
    "collapsed": true,
    "deletable": true,
    "editable": true
   },
   "outputs": [],
   "source": [
    "#Accuracy \n",
    "\n",
    "print(\"Train accuracy:\",metrics.accuracy_score(labels_train, pred_labels_train))\n",
    "print(\"Test accuracy:\",metrics.accuracy_score(labels_test, pred_labels_test))\n"
   ]
  },
  {
   "cell_type": "code",
   "execution_count": null,
   "metadata": {
    "collapsed": true,
    "deletable": true,
    "editable": true
   },
   "outputs": [],
   "source": []
  }
 ],
 "metadata": {
  "anaconda-cloud": {},
  "kernelspec": {
   "display_name": "Python [conda root]",
   "language": "python",
   "name": "conda-root-py"
  },
  "language_info": {
   "codemirror_mode": {
    "name": "ipython",
    "version": 3
   },
   "file_extension": ".py",
   "mimetype": "text/x-python",
   "name": "python",
   "nbconvert_exporter": "python",
   "pygments_lexer": "ipython3",
   "version": "3.5.2"
  }
 },
 "nbformat": 4,
 "nbformat_minor": 2
}
