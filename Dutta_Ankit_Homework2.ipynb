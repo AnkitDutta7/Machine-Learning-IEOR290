{
 "cells": [
  {
   "cell_type": "code",
   "execution_count": 1,
   "metadata": {
    "collapsed": true
   },
   "outputs": [],
   "source": [
    "import numpy as np\n",
    "import matplotlib.pyplot as plt\n",
    "import pandas as pd"
   ]
  },
  {
   "cell_type": "code",
   "execution_count": 2,
   "metadata": {
    "collapsed": false
   },
   "outputs": [],
   "source": [
    "x1=np.random.normal(loc=4,scale=2,size=100)"
   ]
  },
  {
   "cell_type": "code",
   "execution_count": 3,
   "metadata": {
    "collapsed": true
   },
   "outputs": [],
   "source": [
    "x2=0.5*x1+np.random.normal(loc=3,scale=1,size=100)"
   ]
  },
  {
   "cell_type": "code",
   "execution_count": 4,
   "metadata": {
    "collapsed": false
   },
   "outputs": [],
   "source": [
    "x=np.column_stack((x1,x2))"
   ]
  },
  {
   "cell_type": "code",
   "execution_count": 6,
   "metadata": {
    "collapsed": false
   },
   "outputs": [
    {
     "data": {
      "text/plain": [
       "array([ 3.76347386,  4.73443859])"
      ]
     },
     "execution_count": 6,
     "metadata": {},
     "output_type": "execute_result"
    }
   ],
   "source": [
    "#Sample mean\n",
    "m=np.mean(x, axis=0)\n",
    "m"
   ]
  },
  {
   "cell_type": "code",
   "execution_count": 7,
   "metadata": {
    "collapsed": false
   },
   "outputs": [
    {
     "name": "stdout",
     "output_type": "stream",
     "text": [
      "Covariance matrix \n",
      "[[ 3.50925064  1.46771931]\n",
      " [ 1.46771931  1.57075886]]\n"
     ]
    }
   ],
   "source": [
    "#Sample Covariance Matrix\n",
    "c=np.cov(x.T)\n",
    "print('Covariance matrix \\n%s' %c)\n"
   ]
  },
  {
   "cell_type": "code",
   "execution_count": 11,
   "metadata": {
    "collapsed": false
   },
   "outputs": [
    {
     "name": "stdout",
     "output_type": "stream",
     "text": [
      "Eigenvectors \n",
      "[[ 0.88064194 -0.47378241]\n",
      " [ 0.47378241  0.88064194]]\n",
      "\n",
      "Eigenvalues \n",
      "[ 4.2988787  0.7811308]\n"
     ]
    }
   ],
   "source": [
    "eigenvalue, eigen_vecs = np.linalg.eig(c)\n",
    "\n",
    "print('Eigenvectors \\n%s' %eigen_vecs)\n",
    "print('\\nEigenvalues \\n%s' %eigenvalue)"
   ]
  },
  {
   "cell_type": "code",
   "execution_count": 12,
   "metadata": {
    "collapsed": false
   },
   "outputs": [
    {
     "data": {
      "image/png": "[encoded data removed]",
      "text/plain": [
       "<matplotlib.figure.Figure at 0x279555fd978>"
      ]
     },
     "metadata": {},
     "output_type": "display_data"
    }
   ],
   "source": [
    "plt.scatter(x1,x2)\n",
    "plt.xlim(-4,10)\n",
    "plt.ylim(-4,10)\n",
    "A=[[m[0]],[m[0]]]\n",
    "B=[[m[1]],[m[1]]]\n",
    "C=(eigenvalue[0]*eigen_vecs[0,0],eigenvalue[1]*eigen_vecs[0,1])\n",
    "D=(eigenvalue[0]*eigen_vecs[1,0],eigenvalue[1]*eigen_vecs[1,1])\n",
    "#plt.quiver(m[0],m[1],eig1,eig2)\n",
    "plt.quiver(A,B,C,D, units='xy', scale=1,color='r')\n",
    "\n",
    "plt.show()"
   ]
  }
 ],
 "metadata": {
  "anaconda-cloud": {},
  "kernelspec": {
   "display_name": "Python [conda root]",
   "language": "python",
   "name": "conda-root-py"
  },
  "language_info": {
   "codemirror_mode": {
    "name": "ipython",
    "version": 3
   },
   "file_extension": ".py",
   "mimetype": "text/x-python",
   "name": "python",
   "nbconvert_exporter": "python",
   "pygments_lexer": "ipython3",
   "version": "3.5.2"
  }
 },
 "nbformat": 4,
 "nbformat_minor": 1
}
