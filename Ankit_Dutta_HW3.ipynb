{
 "cells": [
  {
   "cell_type": "code",
   "execution_count": 1,
   "metadata": {
    "collapsed": true,
    "deletable": true,
    "editable": true
   },
   "outputs": [],
   "source": [
    "import numpy as np\n",
    "import matplotlib.pyplot as plt\n",
    "import sklearn.metrics as metrics\n",
    "from sklearn import linear_model\n",
    "\n",
    "from mnist import MNIST\n",
    "from sklearn.preprocessing import OneHotEncoder\n"
   ]
  },
  {
   "cell_type": "code",
   "execution_count": 2,
   "metadata": {
    "collapsed": true,
    "deletable": true,
    "editable": true
   },
   "outputs": [],
   "source": [
    "def dataload():\n",
    "    mnistdata = MNIST('./data/')\n",
    "    X_train, y_train = map(np.array, mnistdata.load_training())\n",
    "    X_test, y_test = map(np.array, mnistdata.load_testing())\n",
    "    X_train = X_train/255.0\n",
    "    X_test = X_test/255.0\n",
    "    X_train = np.asarray(X_train).reshape(60000, 784)\n",
    "    y_train = np.asarray(y_train).reshape(60000, 1)\n",
    "    X_test = np.asarray(X_test).reshape(10000, 784)\n",
    "    y_test = np.asarray(y_test).reshape(10000, 1)\n",
    "    return X_train, y_train, X_test, y_test\n",
    "def plot(x):\n",
    "    image = x.reshape(28, 28)\n",
    "    plt.imshow(image, cmap='gray')\n",
    "    plt.axis('off')\n",
    "    plt.show()"
   ]
  },
  {
   "cell_type": "code",
   "execution_count": 3,
   "metadata": {
    "collapsed": false,
    "deletable": true,
    "editable": true
   },
   "outputs": [
    {
     "name": "stdout",
     "output_type": "stream",
     "text": [
      "Train accuracy: 0.8576833333333334\n",
      "Test accuracy: 0.8603\n"
     ]
    }
   ],
   "source": [
    "if __name__ == \"__main__\":\n",
    "\n",
    "    X_train, y_train, X_test, y_test = dataload()\n",
    "    enc= OneHotEncoder()\n",
    "    enc.fit(y_train)\n",
    "    y_train_new = enc.transform(y_train).toarray()\n",
    "    lm = linear_model.LinearRegression()\n",
    "    lm.fit(X_train, y_train_new)\n",
    "    prediction = lm.predict(X_test)\n",
    "    prediction_train = lm.predict(X_train)\n",
    "    pred_labels_test = np.argmax(prediction, axis = 1)\n",
    "    pred_labels_test.reshape(10000,1)\n",
    "    pred_labels_train = np.argmax(prediction_train, axis = 1)\n",
    "    pred_labels_train.reshape(60000,1)\n",
    "\n",
    "print(\"Train accuracy: {0}\".format(metrics.accuracy_score(y_train, pred_labels_train)))\n",
    "print(\"Test accuracy: {0}\".format(metrics.accuracy_score(y_test,pred_labels_test)))\n",
    "\n",
    "    \n"
   ]
  },
  {
   "cell_type": "code",
   "execution_count": 18,
   "metadata": {
    "collapsed": false,
    "deletable": true,
    "editable": true
   },
   "outputs": [
    {
     "data": {
      "image/png": "[encoded data removed]",
      "text/plain": [
       "<matplotlib.figure.Figure at 0x1f735174400>"
      ]
     },
     "metadata": {},
     "output_type": "display_data"
    }
   ],
   "source": [
    "#==== Plot first mis-classified data ====\n",
    "    # (Use the provided plot(x) function)\n",
    "misclassified_point = np.where(np.any(labels_test != pred_labels_test.reshape(10000,1), axis=1))[0][0]\n",
    "plot(X_test[misclassified_point])"
   ]
  },
  {
   "cell_type": "code",
   "execution_count": 19,
   "metadata": {
    "collapsed": false,
    "deletable": true,
    "editable": true
   },
   "outputs": [
    {
     "name": "stdout",
     "output_type": "stream",
     "text": [
      "Predicted label is: 4\n",
      "True label is: [6]\n"
     ]
    }
   ],
   "source": [
    "print (\"Predicted label is:\", pred_labels_test[misclassified_point])\n",
    "print (\"True label is:\", labels_test[misclassified_point])"
   ]
  },
  {
   "cell_type": "code",
   "execution_count": null,
   "metadata": {
    "collapsed": true,
    "deletable": true,
    "editable": true
   },
   "outputs": [],
   "source": []
  }
 ],
 "metadata": {
  "anaconda-cloud": {},
  "kernelspec": {
   "display_name": "Python [conda root]",
   "language": "python",
   "name": "conda-root-py"
  },
  "language_info": {
   "codemirror_mode": {
    "name": "ipython",
    "version": 3
   },
   "file_extension": ".py",
   "mimetype": "text/x-python",
   "name": "python",
   "nbconvert_exporter": "python",
   "pygments_lexer": "ipython3",
   "version": "3.5.2"
  }
 },
 "nbformat": 4,
 "nbformat_minor": 1
}
